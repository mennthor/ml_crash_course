{
 "cells": [
  {
   "cell_type": "markdown",
   "metadata": {},
   "source": [
    "# Exercises"
   ]
  },
  {
   "cell_type": "code",
   "execution_count": 68,
   "metadata": {},
   "outputs": [],
   "source": [
    "import math\n",
    "import numpy as np\n",
    "import scipy.signal as scs\n",
    "import matplotlib.pyplot as plt"
   ]
  },
  {
   "cell_type": "markdown",
   "metadata": {},
   "source": [
    "## Linear Algebra"
   ]
  },
  {
   "cell_type": "markdown",
   "metadata": {},
   "source": [
    "### Vectors\n",
    "\n",
    "We have two 4D vectors\n",
    "\\begin{equation*}\n",
    "    \\vec{v} = \\left(1, -2, 5, 0\\right)^\\mathrm{T}\n",
    "    \\quad\\mathrm{and}\\quad\n",
    "    \\vec{w} = \\left(2, 2, 3, -1\\right)^\\mathrm{T}\n",
    "\\end{equation*}\n",
    "\n",
    "1. Calculate the lengths $|\\vec{v}|$, $|\\vec{w}|$\n",
    "1. Calculate the sum $\\vec{v} + \\vec{w}$ and difference $\\vec{v} - \\vec{w}$\n",
    "1. Calculate the scalar product $\\vec{v}\\cdot \\vec{w}$\n",
    "1. What is angle $\\phi$ in degrees between both vectors?\n",
    "1. Find a vector $\\vec{u}\\neq \\vec{0}$ which is orthogonal to $\\vec{v}$\n"
   ]
  },
  {
   "cell_type": "markdown",
   "metadata": {},
   "source": [
    "#### Exercise 1"
   ]
  },
  {
   "cell_type": "markdown",
   "metadata": {},
   "source": [
    "The length of an vetor is calculated using\n",
    "\\begin{equation*}\n",
    "    |\\vec{v}| = \\sqrt{\\sum_{i=1}^n v_i^2}\n",
    "\\end{equation*}\n",
    "\n",
    "So for the first vector we get\n",
    "\\begin{equation*}\n",
    "    |\\vec{v}| = \\sqrt{1^2 + (-2)^2 + 5^2 + 0^2}\n",
    "        = \\sqrt{1 + 4 + 25 + 0} = \\sqrt{30} \\approx 5.48\n",
    "\\end{equation*}\n",
    "and for the second one\n",
    "\\begin{equation*}\n",
    "    |\\vec{v}| = \\sqrt{2^2 + 2^2 + 3^2 + (-1)^2}\n",
    "        = \\sqrt{4 + 4 + 9 + 1} = \\sqrt{18} \\approx 4.24\n",
    "\\end{equation*}\n",
    "\n",
    "See cell below for the computational solution."
   ]
  },
  {
   "cell_type": "code",
   "execution_count": 22,
   "metadata": {},
   "outputs": [
    {
     "name": "stdout",
     "output_type": "stream",
     "text": [
      "# Using numpy methods:\n",
      "Length of v: 5.48\n",
      "Length of w: 4.24\n",
      "\n",
      "# Using standard methods:\n",
      "Length of v: 5.48\n",
      "Length of w: 4.24\n"
     ]
    }
   ],
   "source": [
    "# Computational solution for vector exercise 1\n",
    "v = [1, -2, 5, 0]\n",
    "w = [2, 2, 3, -1]\n",
    "\n",
    "\n",
    "## Using numpy\n",
    "norm_v = np.linalg.norm(v)\n",
    "norm_w = np.linalg.norm(w)\n",
    "print(\"# Using numpy methods:\")\n",
    "print(\"Length of v: {:.2f}\".format(norm_v))\n",
    "print(\"Length of w: {:.2f}\".format(norm_w))\n",
    "\n",
    "\n",
    "## Using standard python\n",
    "def vec_norm(v):\n",
    "    \"\"\" Calculates the norm of given vector v, input as list \"\"\"\n",
    "    return math.sqrt(sum([vi**2 for vi in v]))\n",
    "\n",
    "norm_v = vec_norm(v)\n",
    "norm_w = vec_norm(w)\n",
    "print(\"\\n# Using standard methods:\")\n",
    "print(\"Length of v: {:.2f}\".format(norm_v))\n",
    "print(\"Length of w: {:.2f}\".format(norm_w))"
   ]
  },
  {
   "cell_type": "markdown",
   "metadata": {},
   "source": [
    "#### Exercise 2"
   ]
  },
  {
   "cell_type": "markdown",
   "metadata": {},
   "source": [
    "The sum is simply computed by adding each corresponding elements:\n",
    "\\begin{equation}\n",
    " \\vec{v} + \\vec{w} =\n",
    " \\left(1 + 2, -2 + 2, 5 + 3, 0 - 1\\right)^\\mathrm{T} =\n",
    " \\left(3, 0, 8, -1\\right)^\\mathrm{T}\n",
    "\\end{equation}\n",
    "The same for the difference:\n",
    "\\begin{equation}\n",
    " \\vec{v} - \\vec{w} =\n",
    " \\left(1 - 2, -2 - 2, 5 - 3, 0 + 1\\right)^\\mathrm{T} =\n",
    " \\left(-1, -4, 2, 1\\right)^\\mathrm{T}\n",
    "\\end{equation}\n",
    "\n",
    "See cell below for computational solution."
   ]
  },
  {
   "cell_type": "code",
   "execution_count": 21,
   "metadata": {},
   "outputs": [
    {
     "name": "stdout",
     "output_type": "stream",
     "text": [
      "# Using numpy methods:\n",
      "v + w = (3.00, 0.00, 8.00, -1.00)^T\n",
      "v - w = (-1.00, -4.00, 2.00, 1.00)^T\n",
      "\n",
      "# Using standard methods:\n",
      "v + w = (3.00, 0.00, 8.00, -1.00)^T\n",
      "v - w = (-1.00, -4.00, 2.00, 1.00)^T\n"
     ]
    }
   ],
   "source": [
    "# Computational solution for vector exercise 2\n",
    "v = [1, -2, 5, 0]\n",
    "w = [2, 2, 3, -1]\n",
    "\n",
    "\n",
    "## Using numpy\n",
    "u1 = np.array(v) + np.array(w)\n",
    "u2 = np.array(v) - np.array(w)\n",
    "print(\"# Using numpy methods:\")\n",
    "print(\"v + w = ({})^T\".format(\n",
    "    \", \".join([\"{:.2f}\".format(ui) for ui in u1])))\n",
    "print(\"v - w = ({})^T\".format(\n",
    "    \", \".join([\"{:.2f}\".format(ui) for ui in u2])))\n",
    "\n",
    "\n",
    "# Using standard python\n",
    "u1 = [vi + wi for vi, wi in zip(v, w)]\n",
    "u2 = [vi - wi for vi, wi in zip(v, w)]\n",
    "print(\"\\n# Using standard methods:\")\n",
    "print(\"v + w = ({})^T\".format(\n",
    "    \", \".join([\"{:.2f}\".format(ui) for ui in u1])))\n",
    "print(\"v - w = ({})^T\".format(\n",
    "    \", \".join([\"{:.2f}\".format(ui) for ui in u2])))"
   ]
  },
  {
   "cell_type": "markdown",
   "metadata": {},
   "source": [
    "#### Exercise 3"
   ]
  },
  {
   "cell_type": "markdown",
   "metadata": {},
   "source": [
    "For the scalar product we add the products of each corresponding components\n",
    "\\begin{equation}\n",
    " \\vec{v} \\cdot \\vec{w} = \\sum_{i=1}^n v_i w_i\n",
    "\\end{equation}\n",
    "and get\n",
    "\\begin{equation}\n",
    " \\vec{v} \\cdot \\vec{w} =\n",
    " 1 \\cdot 2 + -2 \\cdot 2 + 5 \\cdot 3 + 0 \\cdot (- 1) =\n",
    " 2 - 4 + 15 +0 = 13\n",
    "\\end{equation}\n",
    "for the example vectors.\n",
    "\n",
    "See cell below for the computational solution."
   ]
  },
  {
   "cell_type": "code",
   "execution_count": 20,
   "metadata": {},
   "outputs": [
    {
     "name": "stdout",
     "output_type": "stream",
     "text": [
      "# Using numpy methods:\n",
      "v * w = 13.00\n",
      "\n",
      "# Using standard methods:\n",
      "v * w = 13.00\n"
     ]
    }
   ],
   "source": [
    "# Computational solution for vector exercise 3\n",
    "v = [1, -2, 5, 0]\n",
    "w = [2, 2, 3, -1]\n",
    "\n",
    "\n",
    "## Using numpy\n",
    "a = np.dot(v, w)\n",
    "print(\"# Using numpy methods:\")\n",
    "print(\"v * w = {:.2f}\".format(a))\n",
    "\n",
    "\n",
    "# Using standard python\n",
    "a = sum([vi * wi for vi, wi in zip(v, w)])\n",
    "print(\"\\n# Using standard methods:\")\n",
    "print(\"v * w = {:.2f}\".format(a))"
   ]
  },
  {
   "cell_type": "markdown",
   "metadata": {},
   "source": [
    "#### Exercise 4"
   ]
  },
  {
   "cell_type": "markdown",
   "metadata": {},
   "source": [
    "For the angle $\\phi$ we use the alternative formula\n",
    "\\begin{equation}\n",
    "    \\cos(\\phi) =\n",
    "    \\frac{\\vec{v} \\cdot \\vec{w}}{|\\vec{v}|\\,|\\vec{w}|}\n",
    "\\end{equation}\n",
    "\n",
    "We already computed all the ingredients (lengths and the scalar product) in the other exercises so we can reuse them here.\n",
    "Using the inverse cosine we get\n",
    "\\begin{align}\n",
    "     \\cos(\\phi)\n",
    "     &= \\arccos\\left(\n",
    "         \\frac{\\vec{v} \\cdot \\vec{w}}{|\\vec{v}|\\,|\\vec{w}|}\n",
    "     \\right) \\\\\n",
    "     &= \\arccos\\left(\\frac{13}{5.48 * 4.24}\\right)\n",
    "     \\approx \\arccos(0,56) = 0,98 = 55,98°\n",
    "\\end{align}\n",
    "\n",
    "See cell below for the computational solution."
   ]
  },
  {
   "cell_type": "code",
   "execution_count": 19,
   "metadata": {},
   "outputs": [
    {
     "name": "stdout",
     "output_type": "stream",
     "text": [
      "The angle is 55.98°\n"
     ]
    }
   ],
   "source": [
    "# Computational solution for vector exercise 4\n",
    "v = [1, -2, 5, 0]\n",
    "w = [2, 2, 3, -1]\n",
    "\n",
    "cos_phi = np.dot(v, w) / (np.linalg.norm(v) * np.linalg.norm(w))\n",
    "phi = np.arccos(cos_phi)\n",
    "phi_deg = np.rad2deg(phi)\n",
    "print(\"The angle is {:.2f}°\".format(phi_deg))"
   ]
  },
  {
   "cell_type": "markdown",
   "metadata": {},
   "source": [
    "#### Exercise 5"
   ]
  },
  {
   "cell_type": "markdown",
   "metadata": {},
   "source": [
    "To find a orthogonal vector we first note that two vectors are orthogonal when their scalar product vanishes.\n",
    "Then $\\cos(\\phi) = 0 \\rightarrow \\phi = 90°$.\n",
    "This problem does not have a unique solution.\n",
    "To get on possible solution, we can fix 3 of the 4 unknown components of $\\vec{u}$ and then solve a single equation to find the 4th one which then fullfills the requirement:\n",
    "Here we simply use the 1st, 2nd and 4th component of $\\vec{w}$ for $\\vec{u}$ which results in the orthogonal vector\n",
    "\\begin{align}\n",
    "    \\vec{v}\\cdot\\vec{u} \\overset{!}{=} 0 &=\n",
    "    1 \\cdot 2 + -2 \\cdot 2 + 5 \\cdot u_3 + 0 \\cdot -1 \\\\\n",
    "    u_3 &= \\frac{2}{-5} + \\frac{-4}{-5}\n",
    "    = \\frac{2}{5}\n",
    "\\end{align}\n",
    "\n",
    "Alternatively we could also have noted that the 4th component of $\\vec{v}$ is $0$, so any vector of the form $(0, 0, 0, u_4)^\\mathrm{T}$ is automatically orthogonal to $\\vec{v}$.\n",
    "\n",
    "See cell below for the computational solution."
   ]
  },
  {
   "cell_type": "code",
   "execution_count": 27,
   "metadata": {
    "scrolled": true
   },
   "outputs": [
    {
     "name": "stdout",
     "output_type": "stream",
     "text": [
      "The angle is 90.00°\n"
     ]
    }
   ],
   "source": [
    "# Computational solution for vector exercise 5\n",
    "# Here we just prove we found an orthogonal vector,\n",
    "# because an actual computation is more complicated\n",
    "v = [1, -2, 5, 0]\n",
    "u = [2, 2, 2. / 5., -1]\n",
    "\n",
    "cos_phi = np.dot(v, u) / (np.linalg.norm(v) * np.linalg.norm(u))\n",
    "phi = np.arccos(cos_phi)\n",
    "phi_deg = np.rad2deg(phi)\n",
    "print(\"The angle is {:.2f}°\".format(phi_deg))"
   ]
  },
  {
   "cell_type": "markdown",
   "metadata": {},
   "source": [
    "### Matrices\n",
    "\n",
    "1. We have 2 matrices $\\underline{A}, \\underline{B}$\n",
    "  and a vector $\\vec{v}$\n",
    "  \\begin{equation*}\n",
    "    \\underline{A} =\n",
    "      \\begin{pmatrix} 1 & 2 & 3 \\\\ 3 & 2 & 1 \\end{pmatrix}\n",
    "    \\,\\mathrm{, }\\quad\n",
    "    \\underline{B} =\n",
    "      \\begin{pmatrix} 0 & 2 \\\\ 1 & -1 \\\\ 0 & 1 \\end{pmatrix}\n",
    "    \\,\\mathrm{, }\\quad\n",
    "    \\vec{v} = \\begin{pmatrix} 4 \\\\ 5 \\\\ 6 \\end{pmatrix}\n",
    "  \\end{equation*}\n",
    "  Calculate $\\underline{A}\\,\\underline{B}$,\n",
    "  $\\underline{B}\\,\\underline{A}$,\n",
    "  $\\underline{A}\\,\\vec{v}$ and $\\vec{v}^\\mathrm{T}\\,\\underline{B}$.\n",
    "1. Calculate the inverses (if existing) of\n",
    "  \\begin{equation*}\n",
    "    \\underline{A} =\n",
    "      \\begin{pmatrix} 1 & 2 \\\\ 4 & 2 \\end{pmatrix}\n",
    "    \\quad\\mathrm{, }\\quad\n",
    "    \\underline{B} =\n",
    "      \\begin{pmatrix} 1 & 2 \\\\ 2 & 4 \\end{pmatrix}\n",
    "  \\end{equation*}\n",
    "1. We have a matrix $\\underline{M} = \\underline{1}$\n",
    "  and a vector $\\vec{v}^\\mathrm{T} = \\left(v_1, v_2, v_3\\right)$.\n",
    "  Calculate\n",
    "  \\begin{equation*}\n",
    "    \\vec{v}^\\mathrm{T}\\, \\underline{M}\\, \\vec{v}\n",
    "  \\end{equation*}"
   ]
  },
  {
   "cell_type": "markdown",
   "metadata": {},
   "source": [
    "#### Exercise 1"
   ]
  },
  {
   "cell_type": "markdown",
   "metadata": {},
   "source": [
    "We only calculate $\\underline{A}\\,\\underline{B}$ explicitely here, the rest is done in code.\n",
    "\\begin{align}\n",
    "    \\underline{A}\\,\\underline{B} &=\n",
    "    \\begin{pmatrix} \n",
    "        1 & 2 & 3 \\\\ 3 & 2 & 1 \\end{pmatrix}_{2,3}\n",
    "    \\begin{pmatrix}\n",
    "        0 & 2 \\\\ 1 & -1 \\\\ 0 & 1 \\end{pmatrix}_{3, 2} \\\\\n",
    "    &=\n",
    "    \\begin{pmatrix}\n",
    "        1 \\cdot 0 + 2 \\cdot 1 + 3 \\cdot 0 &\n",
    "        1 \\cdot 2 + 2 \\cdot -1 + 3 \\cdot 1 \\\\\n",
    "        3 \\cdot 0 + 2 \\cdot 1 + 1 \\cdot 0 &\n",
    "        3 \\cdot 2 + 2 \\cdot -1 + 1 \\cdot 1\n",
    "    \\end{pmatrix}_{2,2} = \n",
    "    \\begin{pmatrix}\n",
    "        2 & 3 \\\\ 2 & 5\n",
    "    \\end{pmatrix}_{2,2}\n",
    "\\end{align}\n",
    "\n",
    "See cell below for the computational solution."
   ]
  },
  {
   "cell_type": "code",
   "execution_count": 42,
   "metadata": {
    "scrolled": true
   },
   "outputs": [
    {
     "name": "stdout",
     "output_type": "stream",
     "text": [
      "AB =\n",
      "[[2 3]\n",
      " [2 5]]\n",
      "  Dimensions: (2, 2)\n",
      "\n",
      "BA =\n",
      "[[ 6  4  2]\n",
      " [-2  0  2]\n",
      " [ 3  2  1]]\n",
      "  Dimensions: (3, 3)\n",
      "\n",
      "Av =\n",
      "[[32]\n",
      " [28]]\n",
      "  Dimensions: (2, 1)\n",
      "\n",
      "vB = [[5 9]]\n",
      "  Dimensions: (1, 2)\n"
     ]
    }
   ],
   "source": [
    "# Computational solution for matrix exercise 1\n",
    "A = [[1, 2, 3], [3, 2, 1]]  # row-wise definition as in C\n",
    "B = [[0, 2], [1, -1], [0, 1]]\n",
    "v = np.array([[4], [5], [6]])  # Using an explicit column vector\n",
    "\n",
    "AB = np.matmul(A, B)\n",
    "BA = np.matmul(B, A)\n",
    "Av = np.matmul(A, v)\n",
    "vB = np.matmul(v.T, B)\n",
    "dimAB = AB.shape\n",
    "dimBA = BA.shape\n",
    "dimAv = Av.shape\n",
    "dimvB = vB.shape\n",
    "\n",
    "print(\"AB =\\n{}\".format(AB))\n",
    "print(\"  Dimensions: {}\".format(dimAB))\n",
    "print(\"\\nBA =\\n{}\".format(BA))\n",
    "print(\"  Dimensions: {}\".format(dimBA))\n",
    "print(\"\\nAv =\\n{}\".format(Av))\n",
    "print(\"  Dimensions: {}\".format(dimAv))\n",
    "print(\"\\nvB = {}\".format(vB))\n",
    "print(\"  Dimensions: {}\".format(dimvB))"
   ]
  },
  {
   "cell_type": "markdown",
   "metadata": {},
   "source": [
    "#### Exercise 2"
   ]
  },
  {
   "cell_type": "markdown",
   "metadata": {},
   "source": [
    "For these $(2,2)$ matrices we can use the explicit formula for the inverse\n",
    "\\begin{equation}\n",
    "  \\underline{A}^{-1} =\n",
    "  \\frac{1}{1 \\cdot 2 - 4 \\cdot 2}\n",
    "  \\begin{pmatrix}2 & -2 \\\\ -4 & 1\\end{pmatrix} =\n",
    "  \\begin{pmatrix}\n",
    "      -\\frac{1}{3} & \\frac{1}{3} \\\\\n",
    "      \\frac{2}{3} & -\\frac{1}{6}\n",
    "  \\end{pmatrix}\n",
    "\\end{equation}\n",
    "\n",
    "The inverse of $\\underline{B}$ does not exist, because both rows are multiples of each other.\n",
    "This mean it has not full rank or one of its eigenvalues is $0$ or the denominator of the factor for the inverse computation (\"determinant\") is zero\n",
    "\\begin{equation}\n",
    "  \\frac{1}{1 \\cdot 4 - 2 \\cdot 2} = \\frac{1}{0}\n",
    "\\end{equation}\n",
    "\n",
    "See cell below for the computational solution."
   ]
  },
  {
   "cell_type": "code",
   "execution_count": 55,
   "metadata": {
    "scrolled": true
   },
   "outputs": [
    {
     "name": "stdout",
     "output_type": "stream",
     "text": [
      "Ainv =\n",
      "[[-0.33333333  0.33333333]\n",
      " [ 0.66666667 -0.16666667]]\n",
      "  Dimensions: (2, 2)\n",
      "Test if Ainv * A is identity:\n",
      "  Ainv * A =\n",
      "[[1. 0.]\n",
      " [0. 1.]]\n",
      "  A * Ainv =\n",
      "[[1. 0.]\n",
      " [0. 1.]]\n",
      "\n",
      "Calculation of inverse of B failed, reason:  Singular matrix\n"
     ]
    }
   ],
   "source": [
    "# Computational solution for matrix exercise 2\n",
    "A = [[1, 2], [4, 2]]\n",
    "B = [[1, 2], [2, 4]]\n",
    "\n",
    "Ainv = np.linalg.inv(A)\n",
    "test1 = np.matmul(Ainv, A)\n",
    "test2 = np.matmul(A, Ainv)\n",
    "print(\"Ainv =\\n{}\".format(Ainv))\n",
    "print(\"  Dimensions: {}\".format(Ainv.shape))\n",
    "print(\"Test if Ainv * A is identity:\")\n",
    "print(\"  Ainv * A =\\n{}\".format(test1))\n",
    "print(\"  A * Ainv =\\n{}\".format(test2))\n",
    "\n",
    "# This will fail\n",
    "try:\n",
    "    Binv = np.linalg.inv(B)\n",
    "except np.linalg.LinAlgError as err:\n",
    "    print(\"\\nCalculation of inverse of B failed, reason: \", err)"
   ]
  },
  {
   "cell_type": "markdown",
   "metadata": {},
   "source": [
    "#### Exercise 3"
   ]
  },
  {
   "cell_type": "markdown",
   "metadata": {},
   "source": [
    "This form is equivalent to computing the scalar product of $\\vec{v}$ with itself but using the matrix multiplication formalism:\n",
    "\\begin{equation}\n",
    "    \\vec{v}^\\mathrm{T}\\,\\underline{1}\\,\\vec{v} =\n",
    "    \\left(v_1, v_2, v_3\\right)\n",
    "    \\begin{pmatrix}\n",
    "     1 & 0 & 0 \\\\ 0 & 1 & 0 \\\\ 0 & 0 & 1\n",
    "    \\end{pmatrix}\n",
    "    \\begin{pmatrix}v_1 \\\\ v_2 \\\\ v_3\\end{pmatrix} =\n",
    "    v_1^2 + v_2^2 + v_3^2 =\n",
    "    \\vec{v} \\cdot \\vec{v}\n",
    "\\end{equation}\n",
    "The result would be identical without the identity matrix in the center.\n",
    "\n",
    "Note: In a multidimensional gaussian the same form is used, but with the inverse covariance matrix in the middle\n",
    "\\begin{equation}\n",
    "    \\mathcal{N}(\\vec{\\mu}, \\underline{\\Sigma}) \\propto\n",
    "    \\exp\\left(\n",
    "        -\\frac{1}{2}\n",
    "        \\left(\\vec{x}-\\vec{\\mu}\\right)^\\mathrm{T}\n",
    "        \\Sigma^{-1}\n",
    "        \\left(\\vec{x}-\\vec{\\mu}\\right)\n",
    "    \\right)\n",
    "\\end{equation}\n",
    "so that in the end the exponential receives a single number as the argument.\n",
    "\n",
    "See cell below for the computational solution."
   ]
  },
  {
   "cell_type": "code",
   "execution_count": 67,
   "metadata": {
    "scrolled": true
   },
   "outputs": [
    {
     "name": "stdout",
     "output_type": "stream",
     "text": [
      "Matrix: vT * 1 * v = [[14.]]\n",
      "Vector: v * v = 14\n"
     ]
    }
   ],
   "source": [
    "# Computational solution for matrix exercise 3\n",
    "v = np.array([[1], [2], [3]])  # As an example\n",
    "ID = np.eye(len(v))\n",
    "res = np.matmul(np.matmul(v.T, ID), v)\n",
    "\n",
    "v = [1, 2, 3]  # Flat vector only version\n",
    "comp = np.dot(v, v)\n",
    "\n",
    "print(\"Matrix: vT * 1 * v = {}\".format(res))  # Gives a (1, 1) matrix\n",
    "print(\"Vector: v * v = {}\".format(comp))  # Gives a scalar"
   ]
  }
 ],
 "metadata": {
  "kernelspec": {
   "display_name": "Python 3",
   "language": "python",
   "name": "python3"
  },
  "language_info": {
   "codemirror_mode": {
    "name": "ipython",
    "version": 3
   },
   "file_extension": ".py",
   "mimetype": "text/x-python",
   "name": "python",
   "nbconvert_exporter": "python",
   "pygments_lexer": "ipython3",
   "version": "3.8.1"
  }
 },
 "nbformat": 4,
 "nbformat_minor": 4
}
